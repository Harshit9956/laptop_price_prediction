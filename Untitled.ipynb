{
 "cells": [
  {
   "cell_type": "code",
   "execution_count": 156,
   "id": "c6fe8ae5-be88-4ef0-8c8e-6888c3ef6332",
   "metadata": {},
   "outputs": [],
   "source": [
    "import pandas as pd\n",
    "import numpy as np\n",
    "import matplotlib.pyplot as plt\n",
    "import seaborn as sns"
   ]
  },
  {
   "cell_type": "code",
   "execution_count": 157,
   "id": "88b4997d-8825-477c-a077-6aa162b765db",
   "metadata": {},
   "outputs": [
    {
     "data": {
      "text/html": [
       "<div>\n",
       "<style scoped>\n",
       "    .dataframe tbody tr th:only-of-type {\n",
       "        vertical-align: middle;\n",
       "    }\n",
       "\n",
       "    .dataframe tbody tr th {\n",
       "        vertical-align: top;\n",
       "    }\n",
       "\n",
       "    .dataframe thead th {\n",
       "        text-align: right;\n",
       "    }\n",
       "</style>\n",
       "<table border=\"1\" class=\"dataframe\">\n",
       "  <thead>\n",
       "    <tr style=\"text-align: right;\">\n",
       "      <th></th>\n",
       "      <th>Unnamed: 0</th>\n",
       "      <th>Company</th>\n",
       "      <th>TypeName</th>\n",
       "      <th>Inches</th>\n",
       "      <th>ScreenResolution</th>\n",
       "      <th>Cpu</th>\n",
       "      <th>Ram</th>\n",
       "      <th>Memory</th>\n",
       "      <th>Gpu</th>\n",
       "      <th>OpSys</th>\n",
       "      <th>Weight</th>\n",
       "      <th>Price</th>\n",
       "    </tr>\n",
       "  </thead>\n",
       "  <tbody>\n",
       "    <tr>\n",
       "      <th>0</th>\n",
       "      <td>0</td>\n",
       "      <td>Apple</td>\n",
       "      <td>Ultrabook</td>\n",
       "      <td>13.3</td>\n",
       "      <td>IPS Panel Retina Display 2560x1600</td>\n",
       "      <td>Intel Core i5 2.3GHz</td>\n",
       "      <td>8GB</td>\n",
       "      <td>128GB SSD</td>\n",
       "      <td>Intel Iris Plus Graphics 640</td>\n",
       "      <td>macOS</td>\n",
       "      <td>1.37kg</td>\n",
       "      <td>71378.6832</td>\n",
       "    </tr>\n",
       "    <tr>\n",
       "      <th>1</th>\n",
       "      <td>1</td>\n",
       "      <td>Apple</td>\n",
       "      <td>Ultrabook</td>\n",
       "      <td>13.3</td>\n",
       "      <td>1440x900</td>\n",
       "      <td>Intel Core i5 1.8GHz</td>\n",
       "      <td>8GB</td>\n",
       "      <td>128GB Flash Storage</td>\n",
       "      <td>Intel HD Graphics 6000</td>\n",
       "      <td>macOS</td>\n",
       "      <td>1.34kg</td>\n",
       "      <td>47895.5232</td>\n",
       "    </tr>\n",
       "    <tr>\n",
       "      <th>2</th>\n",
       "      <td>2</td>\n",
       "      <td>HP</td>\n",
       "      <td>Notebook</td>\n",
       "      <td>15.6</td>\n",
       "      <td>Full HD 1920x1080</td>\n",
       "      <td>Intel Core i5 7200U 2.5GHz</td>\n",
       "      <td>8GB</td>\n",
       "      <td>256GB SSD</td>\n",
       "      <td>Intel HD Graphics 620</td>\n",
       "      <td>No OS</td>\n",
       "      <td>1.86kg</td>\n",
       "      <td>30636.0000</td>\n",
       "    </tr>\n",
       "    <tr>\n",
       "      <th>3</th>\n",
       "      <td>3</td>\n",
       "      <td>Apple</td>\n",
       "      <td>Ultrabook</td>\n",
       "      <td>15.4</td>\n",
       "      <td>IPS Panel Retina Display 2880x1800</td>\n",
       "      <td>Intel Core i7 2.7GHz</td>\n",
       "      <td>16GB</td>\n",
       "      <td>512GB SSD</td>\n",
       "      <td>AMD Radeon Pro 455</td>\n",
       "      <td>macOS</td>\n",
       "      <td>1.83kg</td>\n",
       "      <td>135195.3360</td>\n",
       "    </tr>\n",
       "    <tr>\n",
       "      <th>4</th>\n",
       "      <td>4</td>\n",
       "      <td>Apple</td>\n",
       "      <td>Ultrabook</td>\n",
       "      <td>13.3</td>\n",
       "      <td>IPS Panel Retina Display 2560x1600</td>\n",
       "      <td>Intel Core i5 3.1GHz</td>\n",
       "      <td>8GB</td>\n",
       "      <td>256GB SSD</td>\n",
       "      <td>Intel Iris Plus Graphics 650</td>\n",
       "      <td>macOS</td>\n",
       "      <td>1.37kg</td>\n",
       "      <td>96095.8080</td>\n",
       "    </tr>\n",
       "    <tr>\n",
       "      <th>5</th>\n",
       "      <td>5</td>\n",
       "      <td>Acer</td>\n",
       "      <td>Notebook</td>\n",
       "      <td>15.6</td>\n",
       "      <td>1366x768</td>\n",
       "      <td>AMD A9-Series 9420 3GHz</td>\n",
       "      <td>4GB</td>\n",
       "      <td>500GB HDD</td>\n",
       "      <td>AMD Radeon R5</td>\n",
       "      <td>Windows 10</td>\n",
       "      <td>2.1kg</td>\n",
       "      <td>21312.0000</td>\n",
       "    </tr>\n",
       "    <tr>\n",
       "      <th>6</th>\n",
       "      <td>6</td>\n",
       "      <td>Apple</td>\n",
       "      <td>Ultrabook</td>\n",
       "      <td>15.4</td>\n",
       "      <td>IPS Panel Retina Display 2880x1800</td>\n",
       "      <td>Intel Core i7 2.2GHz</td>\n",
       "      <td>16GB</td>\n",
       "      <td>256GB Flash Storage</td>\n",
       "      <td>Intel Iris Pro Graphics</td>\n",
       "      <td>Mac OS X</td>\n",
       "      <td>2.04kg</td>\n",
       "      <td>114017.6016</td>\n",
       "    </tr>\n",
       "    <tr>\n",
       "      <th>7</th>\n",
       "      <td>7</td>\n",
       "      <td>Apple</td>\n",
       "      <td>Ultrabook</td>\n",
       "      <td>13.3</td>\n",
       "      <td>1440x900</td>\n",
       "      <td>Intel Core i5 1.8GHz</td>\n",
       "      <td>8GB</td>\n",
       "      <td>256GB Flash Storage</td>\n",
       "      <td>Intel HD Graphics 6000</td>\n",
       "      <td>macOS</td>\n",
       "      <td>1.34kg</td>\n",
       "      <td>61735.5360</td>\n",
       "    </tr>\n",
       "    <tr>\n",
       "      <th>8</th>\n",
       "      <td>8</td>\n",
       "      <td>Asus</td>\n",
       "      <td>Ultrabook</td>\n",
       "      <td>14.0</td>\n",
       "      <td>Full HD 1920x1080</td>\n",
       "      <td>Intel Core i7 8550U 1.8GHz</td>\n",
       "      <td>16GB</td>\n",
       "      <td>512GB SSD</td>\n",
       "      <td>Nvidia GeForce MX150</td>\n",
       "      <td>Windows 10</td>\n",
       "      <td>1.3kg</td>\n",
       "      <td>79653.6000</td>\n",
       "    </tr>\n",
       "    <tr>\n",
       "      <th>9</th>\n",
       "      <td>9</td>\n",
       "      <td>Acer</td>\n",
       "      <td>Ultrabook</td>\n",
       "      <td>14.0</td>\n",
       "      <td>IPS Panel Full HD 1920x1080</td>\n",
       "      <td>Intel Core i5 8250U 1.6GHz</td>\n",
       "      <td>8GB</td>\n",
       "      <td>256GB SSD</td>\n",
       "      <td>Intel UHD Graphics 620</td>\n",
       "      <td>Windows 10</td>\n",
       "      <td>1.6kg</td>\n",
       "      <td>41025.6000</td>\n",
       "    </tr>\n",
       "  </tbody>\n",
       "</table>\n",
       "</div>"
      ],
      "text/plain": [
       "   Unnamed: 0 Company   TypeName  Inches                    ScreenResolution  \\\n",
       "0           0   Apple  Ultrabook    13.3  IPS Panel Retina Display 2560x1600   \n",
       "1           1   Apple  Ultrabook    13.3                            1440x900   \n",
       "2           2      HP   Notebook    15.6                   Full HD 1920x1080   \n",
       "3           3   Apple  Ultrabook    15.4  IPS Panel Retina Display 2880x1800   \n",
       "4           4   Apple  Ultrabook    13.3  IPS Panel Retina Display 2560x1600   \n",
       "5           5    Acer   Notebook    15.6                            1366x768   \n",
       "6           6   Apple  Ultrabook    15.4  IPS Panel Retina Display 2880x1800   \n",
       "7           7   Apple  Ultrabook    13.3                            1440x900   \n",
       "8           8    Asus  Ultrabook    14.0                   Full HD 1920x1080   \n",
       "9           9    Acer  Ultrabook    14.0         IPS Panel Full HD 1920x1080   \n",
       "\n",
       "                          Cpu   Ram               Memory  \\\n",
       "0        Intel Core i5 2.3GHz   8GB            128GB SSD   \n",
       "1        Intel Core i5 1.8GHz   8GB  128GB Flash Storage   \n",
       "2  Intel Core i5 7200U 2.5GHz   8GB            256GB SSD   \n",
       "3        Intel Core i7 2.7GHz  16GB            512GB SSD   \n",
       "4        Intel Core i5 3.1GHz   8GB            256GB SSD   \n",
       "5     AMD A9-Series 9420 3GHz   4GB            500GB HDD   \n",
       "6        Intel Core i7 2.2GHz  16GB  256GB Flash Storage   \n",
       "7        Intel Core i5 1.8GHz   8GB  256GB Flash Storage   \n",
       "8  Intel Core i7 8550U 1.8GHz  16GB            512GB SSD   \n",
       "9  Intel Core i5 8250U 1.6GHz   8GB            256GB SSD   \n",
       "\n",
       "                            Gpu       OpSys  Weight        Price  \n",
       "0  Intel Iris Plus Graphics 640       macOS  1.37kg   71378.6832  \n",
       "1        Intel HD Graphics 6000       macOS  1.34kg   47895.5232  \n",
       "2         Intel HD Graphics 620       No OS  1.86kg   30636.0000  \n",
       "3            AMD Radeon Pro 455       macOS  1.83kg  135195.3360  \n",
       "4  Intel Iris Plus Graphics 650       macOS  1.37kg   96095.8080  \n",
       "5                 AMD Radeon R5  Windows 10   2.1kg   21312.0000  \n",
       "6       Intel Iris Pro Graphics    Mac OS X  2.04kg  114017.6016  \n",
       "7        Intel HD Graphics 6000       macOS  1.34kg   61735.5360  \n",
       "8          Nvidia GeForce MX150  Windows 10   1.3kg   79653.6000  \n",
       "9        Intel UHD Graphics 620  Windows 10   1.6kg   41025.6000  "
      ]
     },
     "execution_count": 157,
     "metadata": {},
     "output_type": "execute_result"
    }
   ],
   "source": [
    "df=pd.read_csv(\"laptop_data.csv\")\n",
    "df.head(10)"
   ]
  },
  {
   "cell_type": "code",
   "execution_count": 158,
   "id": "2940b9f4-be7c-41e6-8edb-82d9a776293c",
   "metadata": {},
   "outputs": [
    {
     "name": "stdout",
     "output_type": "stream",
     "text": [
      "<class 'pandas.core.frame.DataFrame'>\n",
      "RangeIndex: 1303 entries, 0 to 1302\n",
      "Data columns (total 12 columns):\n",
      " #   Column            Non-Null Count  Dtype  \n",
      "---  ------            --------------  -----  \n",
      " 0   Unnamed: 0        1303 non-null   int64  \n",
      " 1   Company           1303 non-null   object \n",
      " 2   TypeName          1303 non-null   object \n",
      " 3   Inches            1303 non-null   float64\n",
      " 4   ScreenResolution  1303 non-null   object \n",
      " 5   Cpu               1303 non-null   object \n",
      " 6   Ram               1303 non-null   object \n",
      " 7   Memory            1303 non-null   object \n",
      " 8   Gpu               1303 non-null   object \n",
      " 9   OpSys             1303 non-null   object \n",
      " 10  Weight            1303 non-null   object \n",
      " 11  Price             1303 non-null   float64\n",
      "dtypes: float64(2), int64(1), object(9)\n",
      "memory usage: 122.3+ KB\n",
      "----------------------------------------------------------------------------------------------------\n"
     ]
    },
    {
     "data": {
      "text/html": [
       "<div>\n",
       "<style scoped>\n",
       "    .dataframe tbody tr th:only-of-type {\n",
       "        vertical-align: middle;\n",
       "    }\n",
       "\n",
       "    .dataframe tbody tr th {\n",
       "        vertical-align: top;\n",
       "    }\n",
       "\n",
       "    .dataframe thead th {\n",
       "        text-align: right;\n",
       "    }\n",
       "</style>\n",
       "<table border=\"1\" class=\"dataframe\">\n",
       "  <thead>\n",
       "    <tr style=\"text-align: right;\">\n",
       "      <th></th>\n",
       "      <th>Unnamed: 0</th>\n",
       "      <th>Inches</th>\n",
       "      <th>Price</th>\n",
       "    </tr>\n",
       "  </thead>\n",
       "  <tbody>\n",
       "    <tr>\n",
       "      <th>count</th>\n",
       "      <td>1303.00000</td>\n",
       "      <td>1303.000000</td>\n",
       "      <td>1303.000000</td>\n",
       "    </tr>\n",
       "    <tr>\n",
       "      <th>mean</th>\n",
       "      <td>651.00000</td>\n",
       "      <td>15.017191</td>\n",
       "      <td>59870.042910</td>\n",
       "    </tr>\n",
       "    <tr>\n",
       "      <th>std</th>\n",
       "      <td>376.28801</td>\n",
       "      <td>1.426304</td>\n",
       "      <td>37243.201786</td>\n",
       "    </tr>\n",
       "    <tr>\n",
       "      <th>min</th>\n",
       "      <td>0.00000</td>\n",
       "      <td>10.100000</td>\n",
       "      <td>9270.720000</td>\n",
       "    </tr>\n",
       "    <tr>\n",
       "      <th>25%</th>\n",
       "      <td>325.50000</td>\n",
       "      <td>14.000000</td>\n",
       "      <td>31914.720000</td>\n",
       "    </tr>\n",
       "    <tr>\n",
       "      <th>50%</th>\n",
       "      <td>651.00000</td>\n",
       "      <td>15.600000</td>\n",
       "      <td>52054.560000</td>\n",
       "    </tr>\n",
       "    <tr>\n",
       "      <th>75%</th>\n",
       "      <td>976.50000</td>\n",
       "      <td>15.600000</td>\n",
       "      <td>79274.246400</td>\n",
       "    </tr>\n",
       "    <tr>\n",
       "      <th>max</th>\n",
       "      <td>1302.00000</td>\n",
       "      <td>18.400000</td>\n",
       "      <td>324954.720000</td>\n",
       "    </tr>\n",
       "  </tbody>\n",
       "</table>\n",
       "</div>"
      ],
      "text/plain": [
       "       Unnamed: 0       Inches          Price\n",
       "count  1303.00000  1303.000000    1303.000000\n",
       "mean    651.00000    15.017191   59870.042910\n",
       "std     376.28801     1.426304   37243.201786\n",
       "min       0.00000    10.100000    9270.720000\n",
       "25%     325.50000    14.000000   31914.720000\n",
       "50%     651.00000    15.600000   52054.560000\n",
       "75%     976.50000    15.600000   79274.246400\n",
       "max    1302.00000    18.400000  324954.720000"
      ]
     },
     "execution_count": 158,
     "metadata": {},
     "output_type": "execute_result"
    }
   ],
   "source": [
    "df.info()\n",
    "print('-'*100)\n",
    "df.describe()"
   ]
  },
  {
   "cell_type": "code",
   "execution_count": 159,
   "id": "191a6d19-c79d-4793-be45-814c4c5be631",
   "metadata": {},
   "outputs": [
    {
     "data": {
      "image/png": "[encoded data removed]",
      "text/plain": [
       "<Figure size 640x480 with 1 Axes>"
      ]
     },
     "metadata": {},
     "output_type": "display_data"
    }
   ],
   "source": [
    "plt.bar(x=df['Company'],height=df['Price'])\n",
    "plt.xticks(rotation=90)\n",
    "plt.show()"
   ]
  },
  {
   "cell_type": "code",
   "execution_count": 160,
   "id": "8da5827b-6704-4401-b434-36d37cae1f64",
   "metadata": {},
   "outputs": [
    {
     "data": {
      "text/plain": [
       "<Axes: xlabel='Company'>"
      ]
     },
     "execution_count": 160,
     "metadata": {},
     "output_type": "execute_result"
    },
    {
     "data": {
      "image/png": "[encoded data removed]",
      "text/plain": [
       "<Figure size 640x480 with 1 Axes>"
      ]
     },
     "metadata": {},
     "output_type": "display_data"
    }
   ],
   "source": [
    "df['Company'].value_counts().plot(kind='bar')"
   ]
  },
  {
   "cell_type": "code",
   "execution_count": 161,
   "id": "85db5e13-c46c-4014-9e10-b2900ba56db1",
   "metadata": {},
   "outputs": [
    {
     "data": {
      "text/plain": [
       "Inches\n",
       "15.6    665\n",
       "14.0    197\n",
       "13.3    164\n",
       "17.3    164\n",
       "12.5     39\n",
       "11.6     33\n",
       "12.0      6\n",
       "13.5      6\n",
       "13.9      6\n",
       "12.3      5\n",
       "10.1      4\n",
       "15.4      4\n",
       "15.0      4\n",
       "13.0      2\n",
       "18.4      1\n",
       "17.0      1\n",
       "14.1      1\n",
       "11.3      1\n",
       "Name: count, dtype: int64"
      ]
     },
     "execution_count": 161,
     "metadata": {},
     "output_type": "execute_result"
    }
   ],
   "source": [
    "df['Inches'].value_counts()"
   ]
  },
  {
   "cell_type": "code",
   "execution_count": 162,
   "id": "df7d865a-2d66-42fe-a003-bcd9214df355",
   "metadata": {},
   "outputs": [
    {
     "name": "stderr",
     "output_type": "stream",
     "text": [
      "C:\\Users\\DELL\\AppData\\Local\\Temp\\ipykernel_10464\\1421002308.py:1: UserWarning: \n",
      "\n",
      "`distplot` is a deprecated function and will be removed in seaborn v0.14.0.\n",
      "\n",
      "Please adapt your code to use either `displot` (a figure-level function with\n",
      "similar flexibility) or `histplot` (an axes-level function for histograms).\n",
      "\n",
      "For a guide to updating your code to use the new functions, please see\n",
      "https://gist.github.com/mwaskom/de44147ed2974457ad6372750bbe5751\n",
      "\n",
      "  sns.distplot(df['Price'])\n"
     ]
    },
    {
     "data": {
      "image/png": "[encoded data removed]",
      "text/plain": [
       "<Figure size 640x480 with 1 Axes>"
      ]
     },
     "metadata": {},
     "output_type": "display_data"
    }
   ],
   "source": [
    "\n",
    "sns.distplot(df['Price'])\n",
    "plt.show()"
   ]
  },
  {
   "cell_type": "code",
   "execution_count": 163,
   "id": "8ce166e9-1358-42b9-b034-0417f00ef450",
   "metadata": {},
   "outputs": [
    {
     "data": {
      "text/plain": [
       "TypeName\n",
       "Notebook              727\n",
       "Gaming                205\n",
       "Ultrabook             196\n",
       "2 in 1 Convertible    121\n",
       "Workstation            29\n",
       "Netbook                25\n",
       "Name: count, dtype: int64"
      ]
     },
     "execution_count": 163,
     "metadata": {},
     "output_type": "execute_result"
    }
   ],
   "source": [
    "df['TypeName'].value_counts()"
   ]
  },
  {
   "cell_type": "code",
   "execution_count": 164,
   "id": "7c2f9f45-9762-44a9-aba0-a99ca748a2a5",
   "metadata": {},
   "outputs": [
    {
     "data": {
      "image/png": "[encoded data removed]",
      "text/plain": [
       "<Figure size 1400x500 with 2 Axes>"
      ]
     },
     "metadata": {},
     "output_type": "display_data"
    }
   ],
   "source": [
    "plt.figure(figsize=(14,5))\n",
    "plt.subplot(1,2,1)\n",
    "df['TypeName'].value_counts().plot(kind='bar',color='r')\n",
    "plt.subplot(1,2,2)\n",
    "sns.barplot(x=df['TypeName'],y=df['Price'],hue=df['TypeName'])\n",
    "plt.xticks(rotation='vertical')\n",
    "plt.show()\n"
   ]
  },
  {
   "cell_type": "code",
   "execution_count": 165,
   "id": "2aa51f0b-77a3-4374-a9d8-16747a3e72be",
   "metadata": {},
   "outputs": [],
   "source": [
    "df['Ips panel']=df['ScreenResolution'].apply(lambda x:1 if 'IPS Panel' in x else 0)\n",
    "df['full_hd']=df['ScreenResolution'].apply(lambda x:1 if \"Full HD\" in x else 0)\n",
    "df['touchscreen']=df['ScreenResolution'].apply(lambda x:1 if \"Touchscreen\" in x else 0)\n",
    "df['resolution']=df['ScreenResolution'].str.split().apply(lambda x: x[-1]).str.split('x')\n",
    "\n"
   ]
  },
  {
   "cell_type": "code",
   "execution_count": 166,
   "id": "374a0758-26f0-472a-9771-d439554c5c73",
   "metadata": {},
   "outputs": [
    {
     "data": {
      "text/plain": [
       "<Axes: xlabel='Ips panel', ylabel='Price'>"
      ]
     },
     "execution_count": 166,
     "metadata": {},
     "output_type": "execute_result"
    },
    {
     "data": {
      "image/png": "[encoded data removed]",
      "text/plain": [
       "<Figure size 1200x500 with 2 Axes>"
      ]
     },
     "metadata": {},
     "output_type": "display_data"
    }
   ],
   "source": [
    "plt.figure(figsize=(12,5))\n",
    "plt.subplot(1,2,1)\n",
    "df['Ips panel'].value_counts().plot(kind='bar',color='green')\n",
    "plt.subplot(1,2,2)\n",
    "sns.barplot(x=df['Ips panel'],y=df['Price'],hue=df['Ips panel'])"
   ]
  },
  {
   "cell_type": "code",
   "execution_count": 167,
   "id": "c0223443-b0f1-4f10-b974-f882e1f2ab2f",
   "metadata": {},
   "outputs": [
    {
     "data": {
      "text/plain": [
       "<Axes: xlabel='full_hd', ylabel='Price'>"
      ]
     },
     "execution_count": 167,
     "metadata": {},
     "output_type": "execute_result"
    },
    {
     "data": {
      "image/png": "[encoded data removed]",
      "text/plain": [
       "<Figure size 1300x400 with 2 Axes>"
      ]
     },
     "metadata": {},
     "output_type": "display_data"
    }
   ],
   "source": [
    "plt.figure(figsize=(13,4))\n",
    "plt.subplot(1,2,1)\n",
    "df['full_hd'].value_counts().plot(kind='bar')\n",
    "plt.subplot(1,2,2)\n",
    "sns.barplot(x=df['full_hd'],y=df['Price'],hue=df['full_hd'])"
   ]
  },
  {
   "cell_type": "code",
   "execution_count": 168,
   "id": "cbcef616-bfae-481f-897e-a140c535eff7",
   "metadata": {},
   "outputs": [
    {
     "data": {
      "text/plain": [
       "<Axes: xlabel='touchscreen', ylabel='Price'>"
      ]
     },
     "execution_count": 168,
     "metadata": {},
     "output_type": "execute_result"
    },
    {
     "data": {
      "image/png": "[encoded data removed]",
      "text/plain": [
       "<Figure size 1300x400 with 2 Axes>"
      ]
     },
     "metadata": {},
     "output_type": "display_data"
    }
   ],
   "source": [
    "plt.figure(figsize=(13,4))\n",
    "plt.subplot(1,2,1)\n",
    "df['touchscreen'].value_counts().plot(kind='bar',color='red')\n",
    "plt.subplot(1,2,2)\n",
    "sns.barplot(x=df['touchscreen'],y=df['Price'],hue=df['touchscreen'])"
   ]
  },
  {
   "cell_type": "code",
   "execution_count": 169,
   "id": "98dcbeac-fa2b-4ac1-8eda-4ed2fecd8d7b",
   "metadata": {},
   "outputs": [],
   "source": [
    "df['Cpu']=df['Cpu'].apply(lambda x :' '.join(x.split()[0:3]))"
   ]
  },
  {
   "cell_type": "code",
   "execution_count": 170,
   "id": "5b700ea7-6172-4093-a1ec-5e43a937bb61",
   "metadata": {},
   "outputs": [
    {
     "data": {
      "text/plain": [
       "Cpu\n",
       "Intel Core i7               527\n",
       "Intel Core i5               423\n",
       "Intel Core i3               136\n",
       "Intel Celeron Dual           80\n",
       "Intel Pentium Quad           27\n",
       "Intel Core M                 19\n",
       "AMD A9-Series 9420           12\n",
       "Intel Celeron Quad            8\n",
       "AMD A6-Series 9220            8\n",
       "AMD A12-Series 9720P          7\n",
       "Intel Atom x5-Z8350           5\n",
       "AMD A8-Series 7410            4\n",
       "Intel Atom x5-Z8550           4\n",
       "Intel Pentium Dual            3\n",
       "AMD A9-Series 9410            3\n",
       "AMD Ryzen 1700                3\n",
       "AMD A9-Series A9-9420         2\n",
       "AMD A10-Series 9620P          2\n",
       "Intel Atom X5-Z8350           2\n",
       "AMD E-Series E2-9000e         2\n",
       "Intel Xeon E3-1535M           2\n",
       "Intel Xeon E3-1505M           2\n",
       "AMD E-Series 7110             2\n",
       "AMD A10-Series 9600P          2\n",
       "AMD A6-Series A6-9220         2\n",
       "AMD A10-Series A10-9620P      2\n",
       "AMD Ryzen 1600                1\n",
       "Intel Atom x5-Z8300           1\n",
       "AMD E-Series E2-6110          1\n",
       "AMD FX 9830P                  1\n",
       "AMD E-Series E2-9000          1\n",
       "AMD A6-Series 7310            1\n",
       "Intel Atom Z8350              1\n",
       "AMD A12-Series 9700P          1\n",
       "AMD A4-Series 7210            1\n",
       "AMD FX 8800P                  1\n",
       "AMD E-Series 9000e            1\n",
       "Samsung Cortex A72&A53        1\n",
       "AMD E-Series 9000             1\n",
       "AMD E-Series 6110             1\n",
       "Name: count, dtype: int64"
      ]
     },
     "execution_count": 170,
     "metadata": {},
     "output_type": "execute_result"
    }
   ],
   "source": [
    "df['Cpu'].value_counts()"
   ]
  },
  {
   "cell_type": "code",
   "execution_count": 171,
   "id": "c21cc3fe-407c-45fe-a2e3-f18c1cdfcf88",
   "metadata": {},
   "outputs": [],
   "source": [
    "def return_cpu(x):\n",
    "    if x=='Intel Core i3' or x=='Intel Core i5' or x=='Intel Core i7':\n",
    "        return x\n",
    "    else:\n",
    "        if x.split()[0] =='Intel':\n",
    "            return 'other Intel processor'\n",
    "        else:\n",
    "            return 'AMD processor'"
   ]
  },
  {
   "cell_type": "code",
   "execution_count": 172,
   "id": "cc9d854b-3d70-4470-83ab-5a6675033b33",
   "metadata": {},
   "outputs": [],
   "source": [
    "df['x_res']=df['resolution'].apply(lambda x:x[0])\n",
    "df['y_res']=df['resolution'].apply(lambda x:x[-1])\n",
    "df['SSD']=df['Memory'].apply(lambda x: 1 if \"SSD\" in x else 0)\n",
    "df['Cpu']=df['Cpu'].apply(return_cpu)"
   ]
  },
  {
   "cell_type": "code",
   "execution_count": 173,
   "id": "45bc7bf5-8891-4488-99cc-e48b5b547742",
   "metadata": {},
   "outputs": [
    {
     "data": {
      "text/plain": [
       "Cpu\n",
       "Intel Core i7            527\n",
       "Intel Core i5            423\n",
       "other Intel processor    154\n",
       "Intel Core i3            136\n",
       "AMD processor             63\n",
       "Name: count, dtype: int64"
      ]
     },
     "execution_count": 173,
     "metadata": {},
     "output_type": "execute_result"
    }
   ],
   "source": [
    "df['Cpu'].value_counts()"
   ]
  },
  {
   "cell_type": "code",
   "execution_count": 174,
   "id": "05e14275-0d23-46de-b76d-a7f8820f3f3b",
   "metadata": {},
   "outputs": [
    {
     "data": {
      "image/png": "[encoded data removed]",
      "text/plain": [
       "<Figure size 1300x400 with 2 Axes>"
      ]
     },
     "metadata": {},
     "output_type": "display_data"
    }
   ],
   "source": [
    "plt.figure(figsize=(13,4))\n",
    "plt.subplot(1,2,1)\n",
    "df['Cpu'].value_counts().plot(kind='bar')\n",
    "plt.subplot(1,2,2)\n",
    "sns.barplot(x=df['Cpu'],y=df['Price'],hue=df['Cpu'])\n",
    "plt.xticks(rotation='vertical')\n",
    "plt.show()"
   ]
  },
  {
   "cell_type": "code",
   "execution_count": 175,
   "id": "989a05a9-e4b7-42c0-8133-2756392993f0",
   "metadata": {},
   "outputs": [],
   "source": [
    "df['Ram']=df['Ram'].str.replace('GB','')\n",
    "df['Weight']=df['Weight'].str.replace('kg','')"
   ]
  },
  {
   "cell_type": "code",
   "execution_count": 176,
   "id": "8845241f-dcd3-4f9c-9a30-f296352fa565",
   "metadata": {},
   "outputs": [
    {
     "data": {
      "text/plain": [
       "<Axes: xlabel='Ram', ylabel='Price'>"
      ]
     },
     "execution_count": 176,
     "metadata": {},
     "output_type": "execute_result"
    },
    {
     "data": {
      "image/png": "[encoded data removed]",
      "text/plain": [
       "<Figure size 1300x400 with 2 Axes>"
      ]
     },
     "metadata": {},
     "output_type": "display_data"
    }
   ],
   "source": [
    "plt.figure(figsize=(13,4))\n",
    "plt.subplot(1,2,1)\n",
    "df['Ram'].value_counts().plot(kind='bar')\n",
    "plt.subplot(1,2,2)\n",
    "sns.barplot(x=df['Ram'],y=df['Price'],hue=df['Ram'])"
   ]
  },
  {
   "cell_type": "code",
   "execution_count": 177,
   "id": "4ad5c8a0-536d-4629-a90e-7df1300f2c7c",
   "metadata": {},
   "outputs": [
    {
     "data": {
      "text/html": [
       "<div>\n",
       "<style scoped>\n",
       "    .dataframe tbody tr th:only-of-type {\n",
       "        vertical-align: middle;\n",
       "    }\n",
       "\n",
       "    .dataframe tbody tr th {\n",
       "        vertical-align: top;\n",
       "    }\n",
       "\n",
       "    .dataframe thead th {\n",
       "        text-align: right;\n",
       "    }\n",
       "</style>\n",
       "<table border=\"1\" class=\"dataframe\">\n",
       "  <thead>\n",
       "    <tr style=\"text-align: right;\">\n",
       "      <th></th>\n",
       "      <th>Unnamed: 0</th>\n",
       "      <th>Company</th>\n",
       "      <th>TypeName</th>\n",
       "      <th>Inches</th>\n",
       "      <th>ScreenResolution</th>\n",
       "      <th>Cpu</th>\n",
       "      <th>Ram</th>\n",
       "      <th>Memory</th>\n",
       "      <th>Gpu</th>\n",
       "      <th>OpSys</th>\n",
       "      <th>Weight</th>\n",
       "      <th>Price</th>\n",
       "      <th>Ips panel</th>\n",
       "      <th>full_hd</th>\n",
       "      <th>touchscreen</th>\n",
       "      <th>resolution</th>\n",
       "      <th>x_res</th>\n",
       "      <th>y_res</th>\n",
       "      <th>SSD</th>\n",
       "    </tr>\n",
       "  </thead>\n",
       "  <tbody>\n",
       "    <tr>\n",
       "      <th>0</th>\n",
       "      <td>0</td>\n",
       "      <td>Apple</td>\n",
       "      <td>Ultrabook</td>\n",
       "      <td>13.3</td>\n",
       "      <td>IPS Panel Retina Display 2560x1600</td>\n",
       "      <td>Intel Core i5</td>\n",
       "      <td>8</td>\n",
       "      <td>128GB SSD</td>\n",
       "      <td>Intel Iris Plus Graphics 640</td>\n",
       "      <td>macOS</td>\n",
       "      <td>1.37</td>\n",
       "      <td>71378.6832</td>\n",
       "      <td>1</td>\n",
       "      <td>0</td>\n",
       "      <td>0</td>\n",
       "      <td>[2560, 1600]</td>\n",
       "      <td>2560</td>\n",
       "      <td>1600</td>\n",
       "      <td>1</td>\n",
       "    </tr>\n",
       "    <tr>\n",
       "      <th>1</th>\n",
       "      <td>1</td>\n",
       "      <td>Apple</td>\n",
       "      <td>Ultrabook</td>\n",
       "      <td>13.3</td>\n",
       "      <td>1440x900</td>\n",
       "      <td>Intel Core i5</td>\n",
       "      <td>8</td>\n",
       "      <td>128GB Flash Storage</td>\n",
       "      <td>Intel HD Graphics 6000</td>\n",
       "      <td>macOS</td>\n",
       "      <td>1.34</td>\n",
       "      <td>47895.5232</td>\n",
       "      <td>0</td>\n",
       "      <td>0</td>\n",
       "      <td>0</td>\n",
       "      <td>[1440, 900]</td>\n",
       "      <td>1440</td>\n",
       "      <td>900</td>\n",
       "      <td>0</td>\n",
       "    </tr>\n",
       "    <tr>\n",
       "      <th>2</th>\n",
       "      <td>2</td>\n",
       "      <td>HP</td>\n",
       "      <td>Notebook</td>\n",
       "      <td>15.6</td>\n",
       "      <td>Full HD 1920x1080</td>\n",
       "      <td>Intel Core i5</td>\n",
       "      <td>8</td>\n",
       "      <td>256GB SSD</td>\n",
       "      <td>Intel HD Graphics 620</td>\n",
       "      <td>No OS</td>\n",
       "      <td>1.86</td>\n",
       "      <td>30636.0000</td>\n",
       "      <td>0</td>\n",
       "      <td>1</td>\n",
       "      <td>0</td>\n",
       "      <td>[1920, 1080]</td>\n",
       "      <td>1920</td>\n",
       "      <td>1080</td>\n",
       "      <td>1</td>\n",
       "    </tr>\n",
       "    <tr>\n",
       "      <th>3</th>\n",
       "      <td>3</td>\n",
       "      <td>Apple</td>\n",
       "      <td>Ultrabook</td>\n",
       "      <td>15.4</td>\n",
       "      <td>IPS Panel Retina Display 2880x1800</td>\n",
       "      <td>Intel Core i7</td>\n",
       "      <td>16</td>\n",
       "      <td>512GB SSD</td>\n",
       "      <td>AMD Radeon Pro 455</td>\n",
       "      <td>macOS</td>\n",
       "      <td>1.83</td>\n",
       "      <td>135195.3360</td>\n",
       "      <td>1</td>\n",
       "      <td>0</td>\n",
       "      <td>0</td>\n",
       "      <td>[2880, 1800]</td>\n",
       "      <td>2880</td>\n",
       "      <td>1800</td>\n",
       "      <td>1</td>\n",
       "    </tr>\n",
       "    <tr>\n",
       "      <th>4</th>\n",
       "      <td>4</td>\n",
       "      <td>Apple</td>\n",
       "      <td>Ultrabook</td>\n",
       "      <td>13.3</td>\n",
       "      <td>IPS Panel Retina Display 2560x1600</td>\n",
       "      <td>Intel Core i5</td>\n",
       "      <td>8</td>\n",
       "      <td>256GB SSD</td>\n",
       "      <td>Intel Iris Plus Graphics 650</td>\n",
       "      <td>macOS</td>\n",
       "      <td>1.37</td>\n",
       "      <td>96095.8080</td>\n",
       "      <td>1</td>\n",
       "      <td>0</td>\n",
       "      <td>0</td>\n",
       "      <td>[2560, 1600]</td>\n",
       "      <td>2560</td>\n",
       "      <td>1600</td>\n",
       "      <td>1</td>\n",
       "    </tr>\n",
       "  </tbody>\n",
       "</table>\n",
       "</div>"
      ],
      "text/plain": [
       "   Unnamed: 0 Company   TypeName  Inches                    ScreenResolution  \\\n",
       "0           0   Apple  Ultrabook    13.3  IPS Panel Retina Display 2560x1600   \n",
       "1           1   Apple  Ultrabook    13.3                            1440x900   \n",
       "2           2      HP   Notebook    15.6                   Full HD 1920x1080   \n",
       "3           3   Apple  Ultrabook    15.4  IPS Panel Retina Display 2880x1800   \n",
       "4           4   Apple  Ultrabook    13.3  IPS Panel Retina Display 2560x1600   \n",
       "\n",
       "             Cpu Ram               Memory                           Gpu  \\\n",
       "0  Intel Core i5   8            128GB SSD  Intel Iris Plus Graphics 640   \n",
       "1  Intel Core i5   8  128GB Flash Storage        Intel HD Graphics 6000   \n",
       "2  Intel Core i5   8            256GB SSD         Intel HD Graphics 620   \n",
       "3  Intel Core i7  16            512GB SSD            AMD Radeon Pro 455   \n",
       "4  Intel Core i5   8            256GB SSD  Intel Iris Plus Graphics 650   \n",
       "\n",
       "   OpSys Weight        Price  Ips panel  full_hd  touchscreen    resolution  \\\n",
       "0  macOS   1.37   71378.6832          1        0            0  [2560, 1600]   \n",
       "1  macOS   1.34   47895.5232          0        0            0   [1440, 900]   \n",
       "2  No OS   1.86   30636.0000          0        1            0  [1920, 1080]   \n",
       "3  macOS   1.83  135195.3360          1        0            0  [2880, 1800]   \n",
       "4  macOS   1.37   96095.8080          1        0            0  [2560, 1600]   \n",
       "\n",
       "  x_res y_res  SSD  \n",
       "0  2560  1600    1  \n",
       "1  1440   900    0  \n",
       "2  1920  1080    1  \n",
       "3  2880  1800    1  \n",
       "4  2560  1600    1  "
      ]
     },
     "execution_count": 177,
     "metadata": {},
     "output_type": "execute_result"
    }
   ],
   "source": [
    "df.head()"
   ]
  },
  {
   "cell_type": "code",
   "execution_count": 178,
   "id": "e88c0f15-9841-4d8b-821c-0e833dc282e5",
   "metadata": {},
   "outputs": [
    {
     "data": {
      "text/plain": [
       "Memory\n",
       "256GB SSD                        412\n",
       "1TB HDD                          223\n",
       "500GB HDD                        132\n",
       "512GB SSD                        118\n",
       "128GB SSD +  1TB HDD              94\n",
       "128GB SSD                         76\n",
       "256GB SSD +  1TB HDD              73\n",
       "32GB Flash Storage                38\n",
       "2TB HDD                           16\n",
       "64GB Flash Storage                15\n",
       "512GB SSD +  1TB HDD              14\n",
       "1TB SSD                           14\n",
       "256GB SSD +  2TB HDD              10\n",
       "1.0TB Hybrid                       9\n",
       "256GB Flash Storage                8\n",
       "16GB Flash Storage                 7\n",
       "32GB SSD                           6\n",
       "180GB SSD                          5\n",
       "128GB Flash Storage                4\n",
       "512GB SSD +  2TB HDD               3\n",
       "16GB SSD                           3\n",
       "512GB Flash Storage                2\n",
       "1TB SSD +  1TB HDD                 2\n",
       "256GB SSD +  500GB HDD             2\n",
       "128GB SSD +  2TB HDD               2\n",
       "256GB SSD +  256GB SSD             2\n",
       "512GB SSD +  256GB SSD             1\n",
       "512GB SSD +  512GB SSD             1\n",
       "64GB Flash Storage +  1TB HDD      1\n",
       "1TB HDD +  1TB HDD                 1\n",
       "32GB HDD                           1\n",
       "64GB SSD                           1\n",
       "128GB HDD                          1\n",
       "240GB SSD                          1\n",
       "8GB SSD                            1\n",
       "508GB Hybrid                       1\n",
       "1.0TB HDD                          1\n",
       "512GB SSD +  1.0TB Hybrid          1\n",
       "256GB SSD +  1.0TB Hybrid          1\n",
       "Name: count, dtype: int64"
      ]
     },
     "execution_count": 178,
     "metadata": {},
     "output_type": "execute_result"
    }
   ],
   "source": [
    "df['Memory'].value_counts()"
   ]
  },
  {
   "cell_type": "code",
   "execution_count": 179,
   "id": "573b85c5-2042-4d66-8620-d88d0dedc08b",
   "metadata": {},
   "outputs": [
    {
     "data": {
      "text/plain": [
       "0           128\n",
       "1           128\n",
       "2           256\n",
       "3           512\n",
       "4           256\n",
       "         ...   \n",
       "1298        128\n",
       "1299        512\n",
       "1300         64\n",
       "1301    1TB HDD\n",
       "1302        500\n",
       "Name: Memory, Length: 1303, dtype: object"
      ]
     },
     "execution_count": 179,
     "metadata": {},
     "output_type": "execute_result"
    }
   ],
   "source": [
    "df['Memory'].apply(lambda x: x.split('GB')[0])"
   ]
  },
  {
   "cell_type": "raw",
   "id": "143840bc-5322-41c3-b0e3-ddde4f433837",
   "metadata": {},
   "source": [
    "average price \n",
    "company\n",
    "types\n",
    "scatterplot of inches\n",
    "cpu types"
   ]
  },
  {
   "cell_type": "code",
   "execution_count": 180,
   "id": "d321e8cd-7e5f-4529-a7cd-16e798c42f49",
   "metadata": {},
   "outputs": [],
   "source": [
    "df['SSD']=df['Memory'].apply(lambda x:x.split()[0] if 'SSD' in x else 0)\n",
    "df['HDD']=df['Memory'].apply(lambda x:x.split()[-2] if 'HDD' in x else 0)"
   ]
  },
  {
   "cell_type": "code",
   "execution_count": 181,
   "id": "ac9973c0-6005-44b2-b22b-1f8716bbe8ca",
   "metadata": {},
   "outputs": [
    {
     "data": {
      "text/html": [
       "<div>\n",
       "<style scoped>\n",
       "    .dataframe tbody tr th:only-of-type {\n",
       "        vertical-align: middle;\n",
       "    }\n",
       "\n",
       "    .dataframe tbody tr th {\n",
       "        vertical-align: top;\n",
       "    }\n",
       "\n",
       "    .dataframe thead th {\n",
       "        text-align: right;\n",
       "    }\n",
       "</style>\n",
       "<table border=\"1\" class=\"dataframe\">\n",
       "  <thead>\n",
       "    <tr style=\"text-align: right;\">\n",
       "      <th></th>\n",
       "      <th>Unnamed: 0</th>\n",
       "      <th>Company</th>\n",
       "      <th>TypeName</th>\n",
       "      <th>Inches</th>\n",
       "      <th>ScreenResolution</th>\n",
       "      <th>Cpu</th>\n",
       "      <th>Ram</th>\n",
       "      <th>Memory</th>\n",
       "      <th>Gpu</th>\n",
       "      <th>OpSys</th>\n",
       "      <th>Weight</th>\n",
       "      <th>Price</th>\n",
       "      <th>Ips panel</th>\n",
       "      <th>full_hd</th>\n",
       "      <th>touchscreen</th>\n",
       "      <th>resolution</th>\n",
       "      <th>x_res</th>\n",
       "      <th>y_res</th>\n",
       "      <th>SSD</th>\n",
       "      <th>HDD</th>\n",
       "    </tr>\n",
       "  </thead>\n",
       "  <tbody>\n",
       "    <tr>\n",
       "      <th>801</th>\n",
       "      <td>801</td>\n",
       "      <td>Asus</td>\n",
       "      <td>Notebook</td>\n",
       "      <td>15.6</td>\n",
       "      <td>Full HD 1920x1080</td>\n",
       "      <td>Intel Core i5</td>\n",
       "      <td>8</td>\n",
       "      <td>256GB SSD</td>\n",
       "      <td>Intel HD Graphics 620</td>\n",
       "      <td>Windows 10</td>\n",
       "      <td>2.37</td>\n",
       "      <td>58554.7200</td>\n",
       "      <td>0</td>\n",
       "      <td>1</td>\n",
       "      <td>0</td>\n",
       "      <td>[1920, 1080]</td>\n",
       "      <td>1920</td>\n",
       "      <td>1080</td>\n",
       "      <td>256GB</td>\n",
       "      <td>0</td>\n",
       "    </tr>\n",
       "    <tr>\n",
       "      <th>713</th>\n",
       "      <td>713</td>\n",
       "      <td>Asus</td>\n",
       "      <td>Notebook</td>\n",
       "      <td>14.0</td>\n",
       "      <td>Full HD 1920x1080</td>\n",
       "      <td>other Intel processor</td>\n",
       "      <td>4</td>\n",
       "      <td>32GB Flash Storage</td>\n",
       "      <td>Intel HD Graphics 500</td>\n",
       "      <td>Windows 10</td>\n",
       "      <td>1.5</td>\n",
       "      <td>15877.4400</td>\n",
       "      <td>0</td>\n",
       "      <td>1</td>\n",
       "      <td>0</td>\n",
       "      <td>[1920, 1080]</td>\n",
       "      <td>1920</td>\n",
       "      <td>1080</td>\n",
       "      <td>0</td>\n",
       "      <td>0</td>\n",
       "    </tr>\n",
       "    <tr>\n",
       "      <th>246</th>\n",
       "      <td>246</td>\n",
       "      <td>HP</td>\n",
       "      <td>Notebook</td>\n",
       "      <td>15.6</td>\n",
       "      <td>Touchscreen 1366x768</td>\n",
       "      <td>Intel Core i5</td>\n",
       "      <td>8</td>\n",
       "      <td>1TB HDD</td>\n",
       "      <td>Intel HD Graphics 620</td>\n",
       "      <td>Windows 10</td>\n",
       "      <td>2.04</td>\n",
       "      <td>29783.5200</td>\n",
       "      <td>0</td>\n",
       "      <td>0</td>\n",
       "      <td>1</td>\n",
       "      <td>[1366, 768]</td>\n",
       "      <td>1366</td>\n",
       "      <td>768</td>\n",
       "      <td>0</td>\n",
       "      <td>1TB</td>\n",
       "    </tr>\n",
       "    <tr>\n",
       "      <th>1064</th>\n",
       "      <td>1064</td>\n",
       "      <td>MSI</td>\n",
       "      <td>Gaming</td>\n",
       "      <td>15.6</td>\n",
       "      <td>Full HD 1920x1080</td>\n",
       "      <td>Intel Core i7</td>\n",
       "      <td>16</td>\n",
       "      <td>256GB SSD +  1TB HDD</td>\n",
       "      <td>Nvidia GeForce GTX 1060</td>\n",
       "      <td>Windows 10</td>\n",
       "      <td>1.8</td>\n",
       "      <td>102777.1200</td>\n",
       "      <td>0</td>\n",
       "      <td>1</td>\n",
       "      <td>0</td>\n",
       "      <td>[1920, 1080]</td>\n",
       "      <td>1920</td>\n",
       "      <td>1080</td>\n",
       "      <td>256GB</td>\n",
       "      <td>1TB</td>\n",
       "    </tr>\n",
       "    <tr>\n",
       "      <th>692</th>\n",
       "      <td>692</td>\n",
       "      <td>HP</td>\n",
       "      <td>Workstation</td>\n",
       "      <td>17.3</td>\n",
       "      <td>Full HD 1920x1080</td>\n",
       "      <td>Intel Core i7</td>\n",
       "      <td>8</td>\n",
       "      <td>500GB HDD</td>\n",
       "      <td>Nvidia Quadro M1200</td>\n",
       "      <td>Windows 10</td>\n",
       "      <td>3.14</td>\n",
       "      <td>101657.7072</td>\n",
       "      <td>0</td>\n",
       "      <td>1</td>\n",
       "      <td>0</td>\n",
       "      <td>[1920, 1080]</td>\n",
       "      <td>1920</td>\n",
       "      <td>1080</td>\n",
       "      <td>0</td>\n",
       "      <td>500GB</td>\n",
       "    </tr>\n",
       "  </tbody>\n",
       "</table>\n",
       "</div>"
      ],
      "text/plain": [
       "      Unnamed: 0 Company     TypeName  Inches      ScreenResolution  \\\n",
       "801          801    Asus     Notebook    15.6     Full HD 1920x1080   \n",
       "713          713    Asus     Notebook    14.0     Full HD 1920x1080   \n",
       "246          246      HP     Notebook    15.6  Touchscreen 1366x768   \n",
       "1064        1064     MSI       Gaming    15.6     Full HD 1920x1080   \n",
       "692          692      HP  Workstation    17.3     Full HD 1920x1080   \n",
       "\n",
       "                        Cpu Ram                Memory  \\\n",
       "801           Intel Core i5   8             256GB SSD   \n",
       "713   other Intel processor   4    32GB Flash Storage   \n",
       "246           Intel Core i5   8               1TB HDD   \n",
       "1064          Intel Core i7  16  256GB SSD +  1TB HDD   \n",
       "692           Intel Core i7   8             500GB HDD   \n",
       "\n",
       "                          Gpu       OpSys Weight        Price  Ips panel  \\\n",
       "801     Intel HD Graphics 620  Windows 10   2.37   58554.7200          0   \n",
       "713     Intel HD Graphics 500  Windows 10    1.5   15877.4400          0   \n",
       "246     Intel HD Graphics 620  Windows 10   2.04   29783.5200          0   \n",
       "1064  Nvidia GeForce GTX 1060  Windows 10    1.8  102777.1200          0   \n",
       "692       Nvidia Quadro M1200  Windows 10   3.14  101657.7072          0   \n",
       "\n",
       "      full_hd  touchscreen    resolution x_res y_res    SSD    HDD  \n",
       "801         1            0  [1920, 1080]  1920  1080  256GB      0  \n",
       "713         1            0  [1920, 1080]  1920  1080      0      0  \n",
       "246         0            1   [1366, 768]  1366   768      0    1TB  \n",
       "1064        1            0  [1920, 1080]  1920  1080  256GB    1TB  \n",
       "692         1            0  [1920, 1080]  1920  1080      0  500GB  "
      ]
     },
     "execution_count": 181,
     "metadata": {},
     "output_type": "execute_result"
    }
   ],
   "source": [
    "df.sample(5)"
   ]
  },
  {
   "cell_type": "code",
   "execution_count": 182,
   "id": "304101c8-3413-4165-8bff-620b099619c9",
   "metadata": {},
   "outputs": [],
   "source": [
    "df=df[df['HDD']!='1.0TB']"
   ]
  },
  {
   "cell_type": "code",
   "execution_count": 183,
   "id": "c4d5a26c-e0f3-404e-ad0a-75af4f6b3640",
   "metadata": {},
   "outputs": [
    {
     "data": {
      "text/plain": [
       "OpSys\n",
       "Windows 10      1071\n",
       "No OS             66\n",
       "Linux             62\n",
       "Windows 7         45\n",
       "Chrome OS         27\n",
       "macOS             13\n",
       "Mac OS X           8\n",
       "Windows 10 S       8\n",
       "Android            2\n",
       "Name: count, dtype: int64"
      ]
     },
     "execution_count": 183,
     "metadata": {},
     "output_type": "execute_result"
    }
   ],
   "source": [
    "df['OpSys'].value_counts()"
   ]
  },
  {
   "cell_type": "code",
   "execution_count": 184,
   "id": "175df23e-6487-470c-9882-303b20b2695c",
   "metadata": {},
   "outputs": [],
   "source": [
    "def give_oper(x):\n",
    "    if  'Windows' in x :\n",
    "        return 'Windows'\n",
    "    elif 'Linux' in x:\n",
    "        return 'Linux'\n",
    "    elif x=='macOS' or x =='Mac OS X':\n",
    "        return 'macOS'\n",
    "    else:\n",
    "        return 'other OS'"
   ]
  },
  {
   "cell_type": "code",
   "execution_count": 185,
   "id": "c93dc60f-1fa8-42be-95b5-4a9208a464c1",
   "metadata": {},
   "outputs": [],
   "source": [
    "df['OpSys']=df['OpSys'].apply(give_oper)"
   ]
  },
  {
   "cell_type": "code",
   "execution_count": 186,
   "id": "cc155195-f202-492f-9dbf-0970b0db2e90",
   "metadata": {},
   "outputs": [
    {
     "data": {
      "text/plain": [
       "<Axes: xlabel='OpSys', ylabel='Price'>"
      ]
     },
     "execution_count": 186,
     "metadata": {},
     "output_type": "execute_result"
    },
    {
     "data": {
      "image/png": "[encoded data removed]",
      "text/plain": [
       "<Figure size 1300x400 with 2 Axes>"
      ]
     },
     "metadata": {},
     "output_type": "display_data"
    }
   ],
   "source": [
    "plt.figure(figsize=(13,4))\n",
    "plt.subplot(1,2,1)\n",
    "df['OpSys'].value_counts().plot(kind='bar')\n",
    "plt.subplot(1,2,2)\n",
    "sns.barplot(x=df['OpSys'],y=df['Price'],hue=df['OpSys'])"
   ]
  },
  {
   "cell_type": "code",
   "execution_count": 187,
   "id": "e10eebd4-a5c2-4221-b2ad-698f0cbcb738",
   "metadata": {},
   "outputs": [
    {
     "data": {
      "text/plain": [
       "Gpu\n",
       "Intel HD Graphics 620      281\n",
       "Intel HD Graphics 520      185\n",
       "Intel UHD Graphics 620      68\n",
       "Nvidia GeForce GTX 1050     66\n",
       "Nvidia GeForce GTX 1060     48\n",
       "                          ... \n",
       "AMD Radeon R5 520            1\n",
       "AMD Radeon R7                1\n",
       "Intel HD Graphics 540        1\n",
       "AMD Radeon 540               1\n",
       "ARM Mali T860 MP4            1\n",
       "Name: count, Length: 110, dtype: int64"
      ]
     },
     "execution_count": 187,
     "metadata": {},
     "output_type": "execute_result"
    }
   ],
   "source": [
    "df['Gpu'].value_counts()"
   ]
  },
  {
   "cell_type": "code",
   "execution_count": 188,
   "id": "d4268f1c-630b-4f73-b4de-c633a093dd2d",
   "metadata": {},
   "outputs": [],
   "source": [
    "df['Gpu_brand']=df['Gpu'].apply(lambda x:x.split()[0] )"
   ]
  },
  {
   "cell_type": "code",
   "execution_count": 189,
   "id": "e3db26f1-d39c-4839-9f60-fac4337a7aa1",
   "metadata": {},
   "outputs": [
    {
     "data": {
      "text/plain": [
       "Gpu_brand\n",
       "Intel     722\n",
       "Nvidia    400\n",
       "AMD       179\n",
       "ARM         1\n",
       "Name: count, dtype: int64"
      ]
     },
     "execution_count": 189,
     "metadata": {},
     "output_type": "execute_result"
    }
   ],
   "source": [
    "df['Gpu_brand'].value_counts()"
   ]
  },
  {
   "cell_type": "code",
   "execution_count": 190,
   "id": "c9db0702-8e0d-4b58-9de1-3b1a0bddaf6f",
   "metadata": {},
   "outputs": [],
   "source": [
    "df=df[df['Gpu_brand']!='ARM']"
   ]
  },
  {
   "cell_type": "code",
   "execution_count": 191,
   "id": "d981bf88-f927-4c67-8f36-9840bc5a139f",
   "metadata": {},
   "outputs": [
    {
     "data": {
      "text/plain": [
       "Gpu_brand\n",
       "Intel     722\n",
       "Nvidia    400\n",
       "AMD       179\n",
       "Name: count, dtype: int64"
      ]
     },
     "execution_count": 191,
     "metadata": {},
     "output_type": "execute_result"
    }
   ],
   "source": [
    "df['Gpu_brand'].value_counts()"
   ]
  },
  {
   "cell_type": "code",
   "execution_count": 192,
   "id": "cc19b18f-d371-44e0-9c14-903bd721bafe",
   "metadata": {},
   "outputs": [],
   "source": [
    "df['HDD']=df['HDD'].str.replace('GB','').fillna('0')"
   ]
  },
  {
   "cell_type": "code",
   "execution_count": 193,
   "id": "5b20256b-0cd1-4804-931a-76d97800b5f9",
   "metadata": {},
   "outputs": [],
   "source": [
    "df['HDD']=df['HDD'].str.replace('TB','000').fillna('0')"
   ]
  },
  {
   "cell_type": "code",
   "execution_count": 194,
   "id": "e33c7951-86f9-43ba-ae47-9f887df1280b",
   "metadata": {},
   "outputs": [],
   "source": [
    "df['SSD']=df['SSD'].str.replace('GB','').fillna('0')\n",
    "df['SSD']=df['SSD'].str.replace('TB','000').fillna('0')\n"
   ]
  },
  {
   "cell_type": "code",
   "execution_count": 195,
   "id": "dce2dea4-8214-4ad7-be38-cad0a868acb1",
   "metadata": {},
   "outputs": [
    {
     "data": {
      "text/plain": [
       "SSD\n",
       "256     500\n",
       "0       458\n",
       "128     172\n",
       "512     138\n",
       "1000     16\n",
       "32        6\n",
       "180       5\n",
       "16        3\n",
       "64        1\n",
       "240       1\n",
       "8         1\n",
       "Name: count, dtype: int64"
      ]
     },
     "execution_count": 195,
     "metadata": {},
     "output_type": "execute_result"
    }
   ],
   "source": [
    "df['SSD'].value_counts()"
   ]
  },
  {
   "cell_type": "code",
   "execution_count": 196,
   "id": "7acdcf73-d6cc-4fb7-9c26-365658c18850",
   "metadata": {},
   "outputs": [
    {
     "name": "stdout",
     "output_type": "stream",
     "text": [
      "<class 'pandas.core.frame.DataFrame'>\n",
      "Index: 1301 entries, 0 to 1302\n",
      "Data columns (total 21 columns):\n",
      " #   Column            Non-Null Count  Dtype  \n",
      "---  ------            --------------  -----  \n",
      " 0   Unnamed: 0        1301 non-null   int64  \n",
      " 1   Company           1301 non-null   object \n",
      " 2   TypeName          1301 non-null   object \n",
      " 3   Inches            1301 non-null   float64\n",
      " 4   ScreenResolution  1301 non-null   object \n",
      " 5   Cpu               1301 non-null   object \n",
      " 6   Ram               1301 non-null   object \n",
      " 7   Memory            1301 non-null   object \n",
      " 8   Gpu               1301 non-null   object \n",
      " 9   OpSys             1301 non-null   object \n",
      " 10  Weight            1301 non-null   object \n",
      " 11  Price             1301 non-null   float64\n",
      " 12  Ips panel         1301 non-null   int64  \n",
      " 13  full_hd           1301 non-null   int64  \n",
      " 14  touchscreen       1301 non-null   int64  \n",
      " 15  resolution        1301 non-null   object \n",
      " 16  x_res             1301 non-null   object \n",
      " 17  y_res             1301 non-null   object \n",
      " 18  SSD               1301 non-null   object \n",
      " 19  HDD               1301 non-null   object \n",
      " 20  Gpu_brand         1301 non-null   object \n",
      "dtypes: float64(2), int64(4), object(15)\n",
      "memory usage: 223.6+ KB\n"
     ]
    }
   ],
   "source": [
    "df.info()"
   ]
  },
  {
   "cell_type": "code",
   "execution_count": 197,
   "id": "a8c6df36-b918-481d-84e6-f719d6d05803",
   "metadata": {},
   "outputs": [
    {
     "data": {
      "text/html": [
       "<div>\n",
       "<style scoped>\n",
       "    .dataframe tbody tr th:only-of-type {\n",
       "        vertical-align: middle;\n",
       "    }\n",
       "\n",
       "    .dataframe tbody tr th {\n",
       "        vertical-align: top;\n",
       "    }\n",
       "\n",
       "    .dataframe thead th {\n",
       "        text-align: right;\n",
       "    }\n",
       "</style>\n",
       "<table border=\"1\" class=\"dataframe\">\n",
       "  <thead>\n",
       "    <tr style=\"text-align: right;\">\n",
       "      <th></th>\n",
       "      <th>Unnamed: 0</th>\n",
       "      <th>Company</th>\n",
       "      <th>TypeName</th>\n",
       "      <th>Inches</th>\n",
       "      <th>ScreenResolution</th>\n",
       "      <th>Cpu</th>\n",
       "      <th>Ram</th>\n",
       "      <th>Memory</th>\n",
       "      <th>Gpu</th>\n",
       "      <th>OpSys</th>\n",
       "      <th>...</th>\n",
       "      <th>Price</th>\n",
       "      <th>Ips panel</th>\n",
       "      <th>full_hd</th>\n",
       "      <th>touchscreen</th>\n",
       "      <th>resolution</th>\n",
       "      <th>x_res</th>\n",
       "      <th>y_res</th>\n",
       "      <th>SSD</th>\n",
       "      <th>HDD</th>\n",
       "      <th>Gpu_brand</th>\n",
       "    </tr>\n",
       "  </thead>\n",
       "  <tbody>\n",
       "    <tr>\n",
       "      <th>3</th>\n",
       "      <td>3</td>\n",
       "      <td>Apple</td>\n",
       "      <td>Ultrabook</td>\n",
       "      <td>15.4</td>\n",
       "      <td>IPS Panel Retina Display 2880x1800</td>\n",
       "      <td>Intel Core i7</td>\n",
       "      <td>16</td>\n",
       "      <td>512GB SSD</td>\n",
       "      <td>AMD Radeon Pro 455</td>\n",
       "      <td>macOS</td>\n",
       "      <td>...</td>\n",
       "      <td>135195.3360</td>\n",
       "      <td>1</td>\n",
       "      <td>0</td>\n",
       "      <td>0</td>\n",
       "      <td>[2880, 1800]</td>\n",
       "      <td>2880</td>\n",
       "      <td>1800</td>\n",
       "      <td>512</td>\n",
       "      <td>0</td>\n",
       "      <td>AMD</td>\n",
       "    </tr>\n",
       "    <tr>\n",
       "      <th>666</th>\n",
       "      <td>666</td>\n",
       "      <td>Dell</td>\n",
       "      <td>Notebook</td>\n",
       "      <td>15.6</td>\n",
       "      <td>Full HD 1920x1080</td>\n",
       "      <td>Intel Core i5</td>\n",
       "      <td>8</td>\n",
       "      <td>1TB HDD</td>\n",
       "      <td>Intel HD Graphics 620</td>\n",
       "      <td>Windows</td>\n",
       "      <td>...</td>\n",
       "      <td>50882.4000</td>\n",
       "      <td>0</td>\n",
       "      <td>1</td>\n",
       "      <td>0</td>\n",
       "      <td>[1920, 1080]</td>\n",
       "      <td>1920</td>\n",
       "      <td>1080</td>\n",
       "      <td>0</td>\n",
       "      <td>1000</td>\n",
       "      <td>Intel</td>\n",
       "    </tr>\n",
       "    <tr>\n",
       "      <th>423</th>\n",
       "      <td>423</td>\n",
       "      <td>Asus</td>\n",
       "      <td>Notebook</td>\n",
       "      <td>15.6</td>\n",
       "      <td>Full HD 1920x1080</td>\n",
       "      <td>Intel Core i3</td>\n",
       "      <td>8</td>\n",
       "      <td>1TB HDD</td>\n",
       "      <td>Nvidia GeForce 940MX</td>\n",
       "      <td>Linux</td>\n",
       "      <td>...</td>\n",
       "      <td>31808.1600</td>\n",
       "      <td>0</td>\n",
       "      <td>1</td>\n",
       "      <td>0</td>\n",
       "      <td>[1920, 1080]</td>\n",
       "      <td>1920</td>\n",
       "      <td>1080</td>\n",
       "      <td>0</td>\n",
       "      <td>1000</td>\n",
       "      <td>Nvidia</td>\n",
       "    </tr>\n",
       "    <tr>\n",
       "      <th>1221</th>\n",
       "      <td>1221</td>\n",
       "      <td>MSI</td>\n",
       "      <td>Gaming</td>\n",
       "      <td>15.6</td>\n",
       "      <td>Full HD 1920x1080</td>\n",
       "      <td>Intel Core i7</td>\n",
       "      <td>8</td>\n",
       "      <td>128GB SSD +  1TB HDD</td>\n",
       "      <td>Nvidia GeForce GTX 1060</td>\n",
       "      <td>Windows</td>\n",
       "      <td>...</td>\n",
       "      <td>78647.1408</td>\n",
       "      <td>0</td>\n",
       "      <td>1</td>\n",
       "      <td>0</td>\n",
       "      <td>[1920, 1080]</td>\n",
       "      <td>1920</td>\n",
       "      <td>1080</td>\n",
       "      <td>128</td>\n",
       "      <td>1000</td>\n",
       "      <td>Nvidia</td>\n",
       "    </tr>\n",
       "    <tr>\n",
       "      <th>436</th>\n",
       "      <td>436</td>\n",
       "      <td>HP</td>\n",
       "      <td>Notebook</td>\n",
       "      <td>15.6</td>\n",
       "      <td>1366x768</td>\n",
       "      <td>other Intel processor</td>\n",
       "      <td>4</td>\n",
       "      <td>500GB HDD</td>\n",
       "      <td>Intel HD Graphics 400</td>\n",
       "      <td>Windows</td>\n",
       "      <td>...</td>\n",
       "      <td>18488.1600</td>\n",
       "      <td>0</td>\n",
       "      <td>0</td>\n",
       "      <td>0</td>\n",
       "      <td>[1366, 768]</td>\n",
       "      <td>1366</td>\n",
       "      <td>768</td>\n",
       "      <td>0</td>\n",
       "      <td>500</td>\n",
       "      <td>Intel</td>\n",
       "    </tr>\n",
       "  </tbody>\n",
       "</table>\n",
       "<p>5 rows × 21 columns</p>\n",
       "</div>"
      ],
      "text/plain": [
       "      Unnamed: 0 Company   TypeName  Inches  \\\n",
       "3              3   Apple  Ultrabook    15.4   \n",
       "666          666    Dell   Notebook    15.6   \n",
       "423          423    Asus   Notebook    15.6   \n",
       "1221        1221     MSI     Gaming    15.6   \n",
       "436          436      HP   Notebook    15.6   \n",
       "\n",
       "                        ScreenResolution                    Cpu Ram  \\\n",
       "3     IPS Panel Retina Display 2880x1800          Intel Core i7  16   \n",
       "666                    Full HD 1920x1080          Intel Core i5   8   \n",
       "423                    Full HD 1920x1080          Intel Core i3   8   \n",
       "1221                   Full HD 1920x1080          Intel Core i7   8   \n",
       "436                             1366x768  other Intel processor   4   \n",
       "\n",
       "                    Memory                      Gpu    OpSys  ...  \\\n",
       "3                512GB SSD       AMD Radeon Pro 455    macOS  ...   \n",
       "666                1TB HDD    Intel HD Graphics 620  Windows  ...   \n",
       "423                1TB HDD     Nvidia GeForce 940MX    Linux  ...   \n",
       "1221  128GB SSD +  1TB HDD  Nvidia GeForce GTX 1060  Windows  ...   \n",
       "436              500GB HDD    Intel HD Graphics 400  Windows  ...   \n",
       "\n",
       "            Price  Ips panel  full_hd  touchscreen    resolution x_res y_res  \\\n",
       "3     135195.3360          1        0            0  [2880, 1800]  2880  1800   \n",
       "666    50882.4000          0        1            0  [1920, 1080]  1920  1080   \n",
       "423    31808.1600          0        1            0  [1920, 1080]  1920  1080   \n",
       "1221   78647.1408          0        1            0  [1920, 1080]  1920  1080   \n",
       "436    18488.1600          0        0            0   [1366, 768]  1366   768   \n",
       "\n",
       "      SSD   HDD Gpu_brand  \n",
       "3     512     0       AMD  \n",
       "666     0  1000     Intel  \n",
       "423     0  1000    Nvidia  \n",
       "1221  128  1000    Nvidia  \n",
       "436     0   500     Intel  \n",
       "\n",
       "[5 rows x 21 columns]"
      ]
     },
     "execution_count": 197,
     "metadata": {},
     "output_type": "execute_result"
    }
   ],
   "source": [
    "df.sample(5)"
   ]
  },
  {
   "cell_type": "code",
   "execution_count": null,
   "id": "8267dee9-adfe-4339-841f-f7d3fed8f2b8",
   "metadata": {},
   "outputs": [],
   "source": []
  },
  {
   "cell_type": "code",
   "execution_count": 198,
   "id": "4b94f149-6881-4204-ad6e-f0d3b26012e5",
   "metadata": {},
   "outputs": [
    {
     "data": {
      "text/html": [
       "<div>\n",
       "<style scoped>\n",
       "    .dataframe tbody tr th:only-of-type {\n",
       "        vertical-align: middle;\n",
       "    }\n",
       "\n",
       "    .dataframe tbody tr th {\n",
       "        vertical-align: top;\n",
       "    }\n",
       "\n",
       "    .dataframe thead th {\n",
       "        text-align: right;\n",
       "    }\n",
       "</style>\n",
       "<table border=\"1\" class=\"dataframe\">\n",
       "  <thead>\n",
       "    <tr style=\"text-align: right;\">\n",
       "      <th></th>\n",
       "      <th>Company</th>\n",
       "      <th>TypeName</th>\n",
       "      <th>Inches</th>\n",
       "      <th>Cpu</th>\n",
       "      <th>Ram</th>\n",
       "      <th>OpSys</th>\n",
       "      <th>Weight</th>\n",
       "      <th>Price</th>\n",
       "      <th>Ips panel</th>\n",
       "      <th>full_hd</th>\n",
       "      <th>touchscreen</th>\n",
       "      <th>x_res</th>\n",
       "      <th>y_res</th>\n",
       "      <th>SSD</th>\n",
       "      <th>HDD</th>\n",
       "      <th>Gpu_brand</th>\n",
       "    </tr>\n",
       "  </thead>\n",
       "  <tbody>\n",
       "    <tr>\n",
       "      <th>233</th>\n",
       "      <td>Dell</td>\n",
       "      <td>Notebook</td>\n",
       "      <td>14.0</td>\n",
       "      <td>Intel Core i5</td>\n",
       "      <td>8</td>\n",
       "      <td>Windows</td>\n",
       "      <td>1.6</td>\n",
       "      <td>45767.5200</td>\n",
       "      <td>0</td>\n",
       "      <td>1</td>\n",
       "      <td>0</td>\n",
       "      <td>1920</td>\n",
       "      <td>1080</td>\n",
       "      <td>256</td>\n",
       "      <td>0</td>\n",
       "      <td>Intel</td>\n",
       "    </tr>\n",
       "    <tr>\n",
       "      <th>929</th>\n",
       "      <td>HP</td>\n",
       "      <td>Notebook</td>\n",
       "      <td>14.0</td>\n",
       "      <td>Intel Core i5</td>\n",
       "      <td>4</td>\n",
       "      <td>Windows</td>\n",
       "      <td>1.95</td>\n",
       "      <td>61218.7200</td>\n",
       "      <td>0</td>\n",
       "      <td>0</td>\n",
       "      <td>0</td>\n",
       "      <td>1366</td>\n",
       "      <td>768</td>\n",
       "      <td>0</td>\n",
       "      <td>500</td>\n",
       "      <td>Intel</td>\n",
       "    </tr>\n",
       "    <tr>\n",
       "      <th>69</th>\n",
       "      <td>Asus</td>\n",
       "      <td>Gaming</td>\n",
       "      <td>17.3</td>\n",
       "      <td>Intel Core i7</td>\n",
       "      <td>12</td>\n",
       "      <td>Linux</td>\n",
       "      <td>3</td>\n",
       "      <td>50562.7200</td>\n",
       "      <td>0</td>\n",
       "      <td>1</td>\n",
       "      <td>0</td>\n",
       "      <td>1920</td>\n",
       "      <td>1080</td>\n",
       "      <td>0</td>\n",
       "      <td>1000</td>\n",
       "      <td>Nvidia</td>\n",
       "    </tr>\n",
       "    <tr>\n",
       "      <th>738</th>\n",
       "      <td>MSI</td>\n",
       "      <td>Gaming</td>\n",
       "      <td>15.6</td>\n",
       "      <td>Intel Core i7</td>\n",
       "      <td>16</td>\n",
       "      <td>Windows</td>\n",
       "      <td>1.8</td>\n",
       "      <td>111593.8944</td>\n",
       "      <td>0</td>\n",
       "      <td>1</td>\n",
       "      <td>0</td>\n",
       "      <td>1920</td>\n",
       "      <td>1080</td>\n",
       "      <td>256</td>\n",
       "      <td>1000</td>\n",
       "      <td>Nvidia</td>\n",
       "    </tr>\n",
       "    <tr>\n",
       "      <th>564</th>\n",
       "      <td>Asus</td>\n",
       "      <td>Notebook</td>\n",
       "      <td>15.6</td>\n",
       "      <td>Intel Core i5</td>\n",
       "      <td>8</td>\n",
       "      <td>Windows</td>\n",
       "      <td>2.5</td>\n",
       "      <td>44701.9200</td>\n",
       "      <td>0</td>\n",
       "      <td>1</td>\n",
       "      <td>0</td>\n",
       "      <td>1920</td>\n",
       "      <td>1080</td>\n",
       "      <td>128</td>\n",
       "      <td>1000</td>\n",
       "      <td>Nvidia</td>\n",
       "    </tr>\n",
       "  </tbody>\n",
       "</table>\n",
       "</div>"
      ],
      "text/plain": [
       "    Company  TypeName  Inches            Cpu Ram    OpSys Weight        Price  \\\n",
       "233    Dell  Notebook    14.0  Intel Core i5   8  Windows    1.6   45767.5200   \n",
       "929      HP  Notebook    14.0  Intel Core i5   4  Windows   1.95   61218.7200   \n",
       "69     Asus    Gaming    17.3  Intel Core i7  12    Linux      3   50562.7200   \n",
       "738     MSI    Gaming    15.6  Intel Core i7  16  Windows    1.8  111593.8944   \n",
       "564    Asus  Notebook    15.6  Intel Core i5   8  Windows    2.5   44701.9200   \n",
       "\n",
       "     Ips panel  full_hd  touchscreen x_res y_res  SSD   HDD Gpu_brand  \n",
       "233          0        1            0  1920  1080  256     0     Intel  \n",
       "929          0        0            0  1366   768    0   500     Intel  \n",
       "69           0        1            0  1920  1080    0  1000    Nvidia  \n",
       "738          0        1            0  1920  1080  256  1000    Nvidia  \n",
       "564          0        1            0  1920  1080  128  1000    Nvidia  "
      ]
     },
     "execution_count": 198,
     "metadata": {},
     "output_type": "execute_result"
    }
   ],
   "source": [
    "df.drop(columns=['Unnamed: 0','ScreenResolution','Gpu','resolution','Memory'],inplace=True)\n",
    "df.sample(5)"
   ]
  },
  {
   "cell_type": "code",
   "execution_count": 199,
   "id": "beb061dc-2950-48e4-9a0a-9905765fabe0",
   "metadata": {},
   "outputs": [],
   "source": [
    "df['Ram']=df['Ram'].astype('int32')\n",
    "df['Weight']=df['Weight'].astype('float64')\n",
    "df['Ips panel']=df['Ips panel'].astype('int32')\n",
    "df['touchscreen']=df['touchscreen'].astype('int32')\n",
    "df['full_hd']=df['full_hd'].astype('int32')\n",
    "df['x_res']=df['x_res'].astype('int32')\n",
    "df['y_res']=df['y_res'].astype('int32')\n",
    "df['SSD']=df['SSD'].astype('int32')\n",
    "df['HDD']=df['HDD'].astype('int32')"
   ]
  },
  {
   "cell_type": "code",
   "execution_count": 200,
   "id": "bf05ef38-2d0b-467d-88b8-ab5f63e6b92a",
   "metadata": {},
   "outputs": [
    {
     "name": "stdout",
     "output_type": "stream",
     "text": [
      "<class 'pandas.core.frame.DataFrame'>\n",
      "Index: 1301 entries, 0 to 1302\n",
      "Data columns (total 16 columns):\n",
      " #   Column       Non-Null Count  Dtype  \n",
      "---  ------       --------------  -----  \n",
      " 0   Company      1301 non-null   object \n",
      " 1   TypeName     1301 non-null   object \n",
      " 2   Inches       1301 non-null   float64\n",
      " 3   Cpu          1301 non-null   object \n",
      " 4   Ram          1301 non-null   int32  \n",
      " 5   OpSys        1301 non-null   object \n",
      " 6   Weight       1301 non-null   float64\n",
      " 7   Price        1301 non-null   float64\n",
      " 8   Ips panel    1301 non-null   int32  \n",
      " 9   full_hd      1301 non-null   int32  \n",
      " 10  touchscreen  1301 non-null   int32  \n",
      " 11  x_res        1301 non-null   int32  \n",
      " 12  y_res        1301 non-null   int32  \n",
      " 13  SSD          1301 non-null   int32  \n",
      " 14  HDD          1301 non-null   int32  \n",
      " 15  Gpu_brand    1301 non-null   object \n",
      "dtypes: float64(3), int32(8), object(5)\n",
      "memory usage: 132.1+ KB\n"
     ]
    }
   ],
   "source": [
    "df.info()"
   ]
  },
  {
   "cell_type": "code",
   "execution_count": 201,
   "id": "f99c2b9a-50ac-485d-affe-fe20c749428f",
   "metadata": {},
   "outputs": [],
   "source": [
    "df['ppi']=((df['x_res']**2+df['y_res']**2)**0.5)/df['Inches']"
   ]
  },
  {
   "cell_type": "code",
   "execution_count": 202,
   "id": "4142b939-3803-4473-9032-e1878593870a",
   "metadata": {},
   "outputs": [],
   "source": [
    "df.drop(columns=['x_res','y_res','Inches'],inplace=True)"
   ]
  },
  {
   "cell_type": "code",
   "execution_count": 203,
   "id": "b3272d3d-939b-4dbd-b698-6717e576a2db",
   "metadata": {},
   "outputs": [
    {
     "data": {
      "text/html": [
       "<div>\n",
       "<style scoped>\n",
       "    .dataframe tbody tr th:only-of-type {\n",
       "        vertical-align: middle;\n",
       "    }\n",
       "\n",
       "    .dataframe tbody tr th {\n",
       "        vertical-align: top;\n",
       "    }\n",
       "\n",
       "    .dataframe thead th {\n",
       "        text-align: right;\n",
       "    }\n",
       "</style>\n",
       "<table border=\"1\" class=\"dataframe\">\n",
       "  <thead>\n",
       "    <tr style=\"text-align: right;\">\n",
       "      <th></th>\n",
       "      <th>Company</th>\n",
       "      <th>TypeName</th>\n",
       "      <th>Cpu</th>\n",
       "      <th>Ram</th>\n",
       "      <th>OpSys</th>\n",
       "      <th>Weight</th>\n",
       "      <th>Price</th>\n",
       "      <th>Ips panel</th>\n",
       "      <th>full_hd</th>\n",
       "      <th>touchscreen</th>\n",
       "      <th>SSD</th>\n",
       "      <th>HDD</th>\n",
       "      <th>Gpu_brand</th>\n",
       "      <th>ppi</th>\n",
       "    </tr>\n",
       "  </thead>\n",
       "  <tbody>\n",
       "    <tr>\n",
       "      <th>0</th>\n",
       "      <td>Apple</td>\n",
       "      <td>Ultrabook</td>\n",
       "      <td>Intel Core i5</td>\n",
       "      <td>8</td>\n",
       "      <td>macOS</td>\n",
       "      <td>1.37</td>\n",
       "      <td>71378.6832</td>\n",
       "      <td>1</td>\n",
       "      <td>0</td>\n",
       "      <td>0</td>\n",
       "      <td>128</td>\n",
       "      <td>0</td>\n",
       "      <td>Intel</td>\n",
       "      <td>226.983005</td>\n",
       "    </tr>\n",
       "    <tr>\n",
       "      <th>1</th>\n",
       "      <td>Apple</td>\n",
       "      <td>Ultrabook</td>\n",
       "      <td>Intel Core i5</td>\n",
       "      <td>8</td>\n",
       "      <td>macOS</td>\n",
       "      <td>1.34</td>\n",
       "      <td>47895.5232</td>\n",
       "      <td>0</td>\n",
       "      <td>0</td>\n",
       "      <td>0</td>\n",
       "      <td>0</td>\n",
       "      <td>0</td>\n",
       "      <td>Intel</td>\n",
       "      <td>127.677940</td>\n",
       "    </tr>\n",
       "    <tr>\n",
       "      <th>2</th>\n",
       "      <td>HP</td>\n",
       "      <td>Notebook</td>\n",
       "      <td>Intel Core i5</td>\n",
       "      <td>8</td>\n",
       "      <td>other OS</td>\n",
       "      <td>1.86</td>\n",
       "      <td>30636.0000</td>\n",
       "      <td>0</td>\n",
       "      <td>1</td>\n",
       "      <td>0</td>\n",
       "      <td>256</td>\n",
       "      <td>0</td>\n",
       "      <td>Intel</td>\n",
       "      <td>141.211998</td>\n",
       "    </tr>\n",
       "    <tr>\n",
       "      <th>3</th>\n",
       "      <td>Apple</td>\n",
       "      <td>Ultrabook</td>\n",
       "      <td>Intel Core i7</td>\n",
       "      <td>16</td>\n",
       "      <td>macOS</td>\n",
       "      <td>1.83</td>\n",
       "      <td>135195.3360</td>\n",
       "      <td>1</td>\n",
       "      <td>0</td>\n",
       "      <td>0</td>\n",
       "      <td>512</td>\n",
       "      <td>0</td>\n",
       "      <td>AMD</td>\n",
       "      <td>220.534624</td>\n",
       "    </tr>\n",
       "    <tr>\n",
       "      <th>4</th>\n",
       "      <td>Apple</td>\n",
       "      <td>Ultrabook</td>\n",
       "      <td>Intel Core i5</td>\n",
       "      <td>8</td>\n",
       "      <td>macOS</td>\n",
       "      <td>1.37</td>\n",
       "      <td>96095.8080</td>\n",
       "      <td>1</td>\n",
       "      <td>0</td>\n",
       "      <td>0</td>\n",
       "      <td>256</td>\n",
       "      <td>0</td>\n",
       "      <td>Intel</td>\n",
       "      <td>226.983005</td>\n",
       "    </tr>\n",
       "  </tbody>\n",
       "</table>\n",
       "</div>"
      ],
      "text/plain": [
       "  Company   TypeName            Cpu  Ram     OpSys  Weight        Price  \\\n",
       "0   Apple  Ultrabook  Intel Core i5    8     macOS    1.37   71378.6832   \n",
       "1   Apple  Ultrabook  Intel Core i5    8     macOS    1.34   47895.5232   \n",
       "2      HP   Notebook  Intel Core i5    8  other OS    1.86   30636.0000   \n",
       "3   Apple  Ultrabook  Intel Core i7   16     macOS    1.83  135195.3360   \n",
       "4   Apple  Ultrabook  Intel Core i5    8     macOS    1.37   96095.8080   \n",
       "\n",
       "   Ips panel  full_hd  touchscreen  SSD  HDD Gpu_brand         ppi  \n",
       "0          1        0            0  128    0     Intel  226.983005  \n",
       "1          0        0            0    0    0     Intel  127.677940  \n",
       "2          0        1            0  256    0     Intel  141.211998  \n",
       "3          1        0            0  512    0       AMD  220.534624  \n",
       "4          1        0            0  256    0     Intel  226.983005  "
      ]
     },
     "execution_count": 203,
     "metadata": {},
     "output_type": "execute_result"
    }
   ],
   "source": [
    "df.head()"
   ]
  },
  {
   "cell_type": "code",
   "execution_count": 204,
   "id": "ccfa6a99-1a25-45b5-beac-a7af2d9fee00",
   "metadata": {},
   "outputs": [
    {
     "data": {
      "text/plain": [
       "Ram            0.742994\n",
       "Weight         0.210811\n",
       "Price          1.000000\n",
       "Ips panel      0.253082\n",
       "full_hd        0.197573\n",
       "touchscreen    0.192750\n",
       "SSD            0.675929\n",
       "HDD           -0.095603\n",
       "ppi            0.475130\n",
       "Name: Price, dtype: float64"
      ]
     },
     "execution_count": 204,
     "metadata": {},
     "output_type": "execute_result"
    }
   ],
   "source": [
    "numeric_columns = df.select_dtypes(include=['float64', 'int32'])\n",
    "price_corr = numeric_columns.corr(method='pearson')['Price']\n",
    "price_corr"
   ]
  },
  {
   "cell_type": "code",
   "execution_count": 205,
   "id": "00d95a8c-4a85-4b5a-856d-d31fa2151e38",
   "metadata": {},
   "outputs": [
    {
     "data": {
      "text/html": [
       "<div>\n",
       "<style scoped>\n",
       "    .dataframe tbody tr th:only-of-type {\n",
       "        vertical-align: middle;\n",
       "    }\n",
       "\n",
       "    .dataframe tbody tr th {\n",
       "        vertical-align: top;\n",
       "    }\n",
       "\n",
       "    .dataframe thead th {\n",
       "        text-align: right;\n",
       "    }\n",
       "</style>\n",
       "<table border=\"1\" class=\"dataframe\">\n",
       "  <thead>\n",
       "    <tr style=\"text-align: right;\">\n",
       "      <th></th>\n",
       "      <th>Ram</th>\n",
       "      <th>Weight</th>\n",
       "      <th>Ips panel</th>\n",
       "      <th>full_hd</th>\n",
       "      <th>touchscreen</th>\n",
       "      <th>SSD</th>\n",
       "      <th>HDD</th>\n",
       "      <th>ppi</th>\n",
       "      <th>Price</th>\n",
       "    </tr>\n",
       "  </thead>\n",
       "  <tbody>\n",
       "    <tr>\n",
       "      <th>Ram</th>\n",
       "      <td>1.000000</td>\n",
       "      <td>0.383755</td>\n",
       "      <td>0.207944</td>\n",
       "      <td>0.209740</td>\n",
       "      <td>0.118859</td>\n",
       "      <td>0.604259</td>\n",
       "      <td>0.097514</td>\n",
       "      <td>0.305738</td>\n",
       "      <td>0.742994</td>\n",
       "    </tr>\n",
       "    <tr>\n",
       "      <th>Weight</th>\n",
       "      <td>0.383755</td>\n",
       "      <td>1.000000</td>\n",
       "      <td>0.019353</td>\n",
       "      <td>0.148546</td>\n",
       "      <td>-0.292798</td>\n",
       "      <td>-0.062482</td>\n",
       "      <td>0.515036</td>\n",
       "      <td>-0.321206</td>\n",
       "      <td>0.210811</td>\n",
       "    </tr>\n",
       "    <tr>\n",
       "      <th>Ips panel</th>\n",
       "      <td>0.207944</td>\n",
       "      <td>0.019353</td>\n",
       "      <td>1.000000</td>\n",
       "      <td>0.186936</td>\n",
       "      <td>0.147859</td>\n",
       "      <td>0.228516</td>\n",
       "      <td>-0.092466</td>\n",
       "      <td>0.298838</td>\n",
       "      <td>0.253082</td>\n",
       "    </tr>\n",
       "    <tr>\n",
       "      <th>full_hd</th>\n",
       "      <td>0.209740</td>\n",
       "      <td>0.148546</td>\n",
       "      <td>0.186936</td>\n",
       "      <td>1.000000</td>\n",
       "      <td>-0.103501</td>\n",
       "      <td>0.195684</td>\n",
       "      <td>0.006576</td>\n",
       "      <td>-0.010500</td>\n",
       "      <td>0.197573</td>\n",
       "    </tr>\n",
       "    <tr>\n",
       "      <th>touchscreen</th>\n",
       "      <td>0.118859</td>\n",
       "      <td>-0.292798</td>\n",
       "      <td>0.147859</td>\n",
       "      <td>-0.103501</td>\n",
       "      <td>1.000000</td>\n",
       "      <td>0.256556</td>\n",
       "      <td>-0.208559</td>\n",
       "      <td>0.458458</td>\n",
       "      <td>0.192750</td>\n",
       "    </tr>\n",
       "    <tr>\n",
       "      <th>SSD</th>\n",
       "      <td>0.604259</td>\n",
       "      <td>-0.062482</td>\n",
       "      <td>0.228516</td>\n",
       "      <td>0.195684</td>\n",
       "      <td>0.256556</td>\n",
       "      <td>1.000000</td>\n",
       "      <td>-0.400398</td>\n",
       "      <td>0.514802</td>\n",
       "      <td>0.675929</td>\n",
       "    </tr>\n",
       "    <tr>\n",
       "      <th>HDD</th>\n",
       "      <td>0.097514</td>\n",
       "      <td>0.515036</td>\n",
       "      <td>-0.092466</td>\n",
       "      <td>0.006576</td>\n",
       "      <td>-0.208559</td>\n",
       "      <td>-0.400398</td>\n",
       "      <td>1.000000</td>\n",
       "      <td>-0.294865</td>\n",
       "      <td>-0.095603</td>\n",
       "    </tr>\n",
       "    <tr>\n",
       "      <th>ppi</th>\n",
       "      <td>0.305738</td>\n",
       "      <td>-0.321206</td>\n",
       "      <td>0.298838</td>\n",
       "      <td>-0.010500</td>\n",
       "      <td>0.458458</td>\n",
       "      <td>0.514802</td>\n",
       "      <td>-0.294865</td>\n",
       "      <td>1.000000</td>\n",
       "      <td>0.475130</td>\n",
       "    </tr>\n",
       "    <tr>\n",
       "      <th>Price</th>\n",
       "      <td>0.742994</td>\n",
       "      <td>0.210811</td>\n",
       "      <td>0.253082</td>\n",
       "      <td>0.197573</td>\n",
       "      <td>0.192750</td>\n",
       "      <td>0.675929</td>\n",
       "      <td>-0.095603</td>\n",
       "      <td>0.475130</td>\n",
       "      <td>1.000000</td>\n",
       "    </tr>\n",
       "  </tbody>\n",
       "</table>\n",
       "</div>"
      ],
      "text/plain": [
       "                  Ram    Weight  Ips panel   full_hd  touchscreen       SSD  \\\n",
       "Ram          1.000000  0.383755   0.207944  0.209740     0.118859  0.604259   \n",
       "Weight       0.383755  1.000000   0.019353  0.148546    -0.292798 -0.062482   \n",
       "Ips panel    0.207944  0.019353   1.000000  0.186936     0.147859  0.228516   \n",
       "full_hd      0.209740  0.148546   0.186936  1.000000    -0.103501  0.195684   \n",
       "touchscreen  0.118859 -0.292798   0.147859 -0.103501     1.000000  0.256556   \n",
       "SSD          0.604259 -0.062482   0.228516  0.195684     0.256556  1.000000   \n",
       "HDD          0.097514  0.515036  -0.092466  0.006576    -0.208559 -0.400398   \n",
       "ppi          0.305738 -0.321206   0.298838 -0.010500     0.458458  0.514802   \n",
       "Price        0.742994  0.210811   0.253082  0.197573     0.192750  0.675929   \n",
       "\n",
       "                  HDD       ppi     Price  \n",
       "Ram          0.097514  0.305738  0.742994  \n",
       "Weight       0.515036 -0.321206  0.210811  \n",
       "Ips panel   -0.092466  0.298838  0.253082  \n",
       "full_hd      0.006576 -0.010500  0.197573  \n",
       "touchscreen -0.208559  0.458458  0.192750  \n",
       "SSD         -0.400398  0.514802  0.675929  \n",
       "HDD          1.000000 -0.294865 -0.095603  \n",
       "ppi         -0.294865  1.000000  0.475130  \n",
       "Price       -0.095603  0.475130  1.000000  "
      ]
     },
     "execution_count": 205,
     "metadata": {},
     "output_type": "execute_result"
    }
   ],
   "source": [
    "df[['Ram','Weight','Ips panel','full_hd','touchscreen','SSD','HDD','ppi','Price']].corr(method='pearson')"
   ]
  },
  {
   "cell_type": "code",
   "execution_count": 206,
   "id": "fc451a67-f79d-4b3f-bfa0-997a6b6f4ff1",
   "metadata": {},
   "outputs": [
    {
     "data": {
      "text/plain": [
       "<Axes: >"
      ]
     },
     "execution_count": 206,
     "metadata": {},
     "output_type": "execute_result"
    },
    {
     "data": {
      "image/png": "[encoded data removed]",
      "text/plain": [
       "<Figure size 640x480 with 2 Axes>"
      ]
     },
     "metadata": {},
     "output_type": "display_data"
    }
   ],
   "source": [
    "sns.heatmap(df[['Ram','Weight','Ips panel','full_hd','touchscreen','SSD','HDD','ppi','Price']].corr(method='pearson'))"
   ]
  },
  {
   "cell_type": "code",
   "execution_count": 207,
   "id": "738ecf5c-ab07-4e62-892e-b93d14047ed0",
   "metadata": {},
   "outputs": [],
   "source": [
    "x=df.drop(columns='Price')\n",
    "y=np.log(df['Price'])\n"
   ]
  },
  {
   "cell_type": "code",
   "execution_count": 208,
   "id": "b47dc5f1-ad04-47b2-ba89-bbaef895a45b",
   "metadata": {},
   "outputs": [
    {
     "name": "stderr",
     "output_type": "stream",
     "text": [
      "C:\\Users\\DELL\\AppData\\Local\\Temp\\ipykernel_10464\\476133659.py:1: UserWarning: \n",
      "\n",
      "`distplot` is a deprecated function and will be removed in seaborn v0.14.0.\n",
      "\n",
      "Please adapt your code to use either `displot` (a figure-level function with\n",
      "similar flexibility) or `histplot` (an axes-level function for histograms).\n",
      "\n",
      "For a guide to updating your code to use the new functions, please see\n",
      "https://gist.github.com/mwaskom/de44147ed2974457ad6372750bbe5751\n",
      "\n",
      "  sns.distplot(y)\n"
     ]
    },
    {
     "data": {
      "text/plain": [
       "<Axes: xlabel='Price', ylabel='Density'>"
      ]
     },
     "execution_count": 208,
     "metadata": {},
     "output_type": "execute_result"
    },
    {
     "data": {
      "image/png": "[encoded data removed]",
      "text/plain": [
       "<Figure size 640x480 with 1 Axes>"
      ]
     },
     "metadata": {},
     "output_type": "display_data"
    }
   ],
   "source": [
    "sns.distplot(y)"
   ]
  },
  {
   "cell_type": "code",
   "execution_count": 209,
   "id": "ea4fe05e-39fb-4b9a-8611-314529a57c65",
   "metadata": {},
   "outputs": [],
   "source": [
    "from sklearn.model_selection  import train_test_split\n",
    "x_train,x_test,y_train,y_test=train_test_split(x,y,test_size=0.15,random_state=20)"
   ]
  },
  {
   "cell_type": "code",
   "execution_count": 210,
   "id": "90a66df0-fa0c-4a5f-a609-f81a246ab429",
   "metadata": {},
   "outputs": [],
   "source": [
    "from sklearn.compose import ColumnTransformer\n",
    "from sklearn.metrics import mean_absolute_error,r2_score\n",
    "from sklearn.pipeline import Pipeline"
   ]
  },
  {
   "cell_type": "code",
   "execution_count": 211,
   "id": "c4f8ce80-e0b9-4799-97a3-d06c4a755d5e",
   "metadata": {},
   "outputs": [],
   "source": [
    "from sklearn.linear_model import LinearRegression,Ridge\n",
    "from sklearn.preprocessing import OneHotEncoder\n",
    "from sklearn.ensemble import RandomForestRegressor\n",
    "from sklearn.tree import DecisionTreeRegressor"
   ]
  },
  {
   "cell_type": "code",
   "execution_count": 212,
   "id": "ca583223-cacf-4042-8b2b-085fa29bb421",
   "metadata": {},
   "outputs": [],
   "source": [
    "# step1=ColumnTransformer(transformers=[\n",
    "#     ('col_trf',OneHotEncoder(sparse=False,drop='first'),[0,1,2,4,11])],remainder='passthrough')\n",
    "# step2=LinearRegression()\n",
    "\n",
    "# pipe=Pipeline([\n",
    "#     ('step1',step1),\n",
    "#     ('step2',step2)\n",
    "# ])\n",
    "# pipe.fit(x_train,y_train)\n",
    "# y_pred=pipe.predict(x_test)\n",
    "# print('r2_score',r2_score(y_test,y_pred))\n",
    "# print('mean absolute error',mean_absolute_error(y_test,y_pred))"
   ]
  },
  {
   "cell_type": "code",
   "execution_count": 213,
   "id": "962ca952-ff5c-4a6a-8476-7699bd567969",
   "metadata": {},
   "outputs": [
    {
     "name": "stderr",
     "output_type": "stream",
     "text": [
      "C:\\Users\\DELL\\AppData\\Local\\Programs\\Python\\Python311\\Lib\\site-packages\\sklearn\\preprocessing\\_encoders.py:975: FutureWarning: `sparse` was renamed to `sparse_output` in version 1.2 and will be removed in 1.4. `sparse_output` is ignored unless you leave `sparse` to its default value.\n",
      "  warnings.warn(\n"
     ]
    },
    {
     "name": "stdout",
     "output_type": "stream",
     "text": [
      "r2_score 0.8748818657641075\n",
      "mean absolute error 0.16465545022987138\n"
     ]
    }
   ],
   "source": [
    "step1=ColumnTransformer(transformers=[\n",
    "    ('col_trf',OneHotEncoder(sparse=False,drop='first'),[0,1,2,4,11])],remainder='passthrough')\n",
    "step2=RandomForestRegressor(n_estimators=200,\n",
    "                           random_state=10,\n",
    "                           max_samples=0.5,\n",
    "                           max_features=0.75,\n",
    "                           max_depth=15)\n",
    "\n",
    "pipe=Pipeline([\n",
    "    ('step1',step1),\n",
    "    ('step2',step2)\n",
    "])\n",
    "pipe.fit(x_train,y_train)\n",
    "y_pred=pipe.predict(x_test)\n",
    "print('r2_score',r2_score(y_test,y_pred))\n",
    "print('mean absolute error',mean_absolute_error(y_test,y_pred))"
   ]
  },
  {
   "cell_type": "code",
   "execution_count": 214,
   "id": "eb783b59-a308-46bf-bc26-714668f6c5a0",
   "metadata": {},
   "outputs": [],
   "source": [
    "import pickle\n",
    "pickle.dump(df,open('df.pkl','wb'))\n",
    "pickle.dump(pipe,open('pipe.pkl','wb'))\n"
   ]
  },
  {
   "cell_type": "code",
   "execution_count": null,
   "id": "248cd448-3b6c-4629-acec-40a7fc03c3fb",
   "metadata": {},
   "outputs": [],
   "source": []
  },
  {
   "cell_type": "code",
   "execution_count": null,
   "id": "10db730f-3ba0-4921-8705-bc155b3ac969",
   "metadata": {},
   "outputs": [],
   "source": []
  },
  {
   "cell_type": "code",
   "execution_count": null,
   "id": "3a7ab286-30f1-4fbc-9ffb-334bf7099175",
   "metadata": {},
   "outputs": [],
   "source": []
  }
 ],
 "metadata": {
  "kernelspec": {
   "display_name": "Python 3 (ipykernel)",
   "language": "python",
   "name": "python3"
  },
  "language_info": {
   "codemirror_mode": {
    "name": "ipython",
    "version": 3
   },
   "file_extension": ".py",
   "mimetype": "text/x-python",
   "name": "python",
   "nbconvert_exporter": "python",
   "pygments_lexer": "ipython3",
   "version": "3.11.5"
  }
 },
 "nbformat": 4,
 "nbformat_minor": 5
}
